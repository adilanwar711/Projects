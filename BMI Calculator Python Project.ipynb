{
 "cells": [
  {
   "cell_type": "code",
   "execution_count": 1,
   "metadata": {},
   "outputs": [
    {
     "name": "stdout",
     "output_type": "stream",
     "text": [
      " Enter Weight in Kg: 63\n",
      " Enter Height in cm: 163.83\n"
     ]
    }
   ],
   "source": [
    "weight = float(input(\" Enter Weight in Kg: \"))\n",
    "height = float(input(\" Enter Height in cm: \"))\n",
    "\n",
    "BMI = round((weight/(height*height))*10000,1)\n"
   ]
  },
  {
   "cell_type": "code",
   "execution_count": 2,
   "metadata": {},
   "outputs": [
    {
     "name": "stdout",
     "output_type": "stream",
     "text": [
      "You are Normal or Healthy\n",
      "23.5\n",
      "-------------------------\n"
     ]
    }
   ],
   "source": [
    "if BMI >= 18.5 and BMI <= 24.9:\n",
    "    print(\"You are Normal or Healthy\")\n",
    "    print(BMI)\n",
    "    print(\"-\"*25)\n",
    "elif BMI >= 25 and BMI <= 29.9:\n",
    "    print(\"You are Overweight\")\n",
    "    print(BMI)\n",
    "    print(\"-\"*25)\n",
    "elif BMI >= 30:\n",
    "    print(\"You are Obese\")\n",
    "    print(BMI)\n",
    "    print(\"-\"*25)\n",
    "else:\n",
    "    print(\"You are Underweight\")\n",
    "    print(BMI)\n",
    "    print(\"-\"*25)"
   ]
  },
  {
   "cell_type": "code",
   "execution_count": null,
   "metadata": {},
   "outputs": [],
   "source": []
  }
 ],
 "metadata": {
  "kernelspec": {
   "display_name": "Python 3",
   "language": "python",
   "name": "python3"
  },
  "language_info": {
   "codemirror_mode": {
    "name": "ipython",
    "version": 3
   },
   "file_extension": ".py",
   "mimetype": "text/x-python",
   "name": "python",
   "nbconvert_exporter": "python",
   "pygments_lexer": "ipython3",
   "version": "3.8.3"
  }
 },
 "nbformat": 4,
 "nbformat_minor": 4
}
