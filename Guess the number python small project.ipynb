{
 "cells": [
  {
   "cell_type": "markdown",
   "metadata": {},
   "source": [
    "## Guess the number"
   ]
  },
  {
   "cell_type": "code",
   "execution_count": 14,
   "metadata": {},
   "outputs": [
    {
     "name": "stdout",
     "output_type": "stream",
     "text": [
      "Enter your Guessed Number: 11\n",
      "Your Guessed Number is smaller than number\n",
      "Enter number again: 23\n",
      "Your Guessed Number is smaller than number\n",
      "Enter number again: 55\n",
      "Your Guessed Number is smaller than number\n",
      "Enter number again: 66\n",
      "Your Guessed Number is smaller than number\n",
      "Enter number again: 75\n",
      "Your Guessed Number is larger than number\n",
      "Enter number again: 70\n",
      "Your Guessed Number is larger than number\n",
      "Enter number again: 67\n",
      "Your Guessed Number is smaller than number\n",
      "Enter number again: 68\n",
      "You have guessed the number right:  68\n",
      "--------------------------------------------------\n",
      "*****************You are a Genius*****************\n"
     ]
    }
   ],
   "source": [
    "import numpy as np\n",
    "\n",
    "\n",
    "a=np.random.rand(1,1)*75\n",
    "number=a[0,0].astype(int)\n",
    "\n",
    "\n",
    "guessnumber=int(input(\"Enter your Guessed Number: \"))\n",
    "\n",
    "\n",
    "while number!= guessnumber:\n",
    "    if guessnumber < number:\n",
    "        print('Your Guessed Number is smaller than number')\n",
    "        guessnumber = int(input(\"Enter number again: \"))\n",
    "    elif guessnumber > number:\n",
    "        print('Your Guessed Number is larger than number')\n",
    "        guessnumber = int(input(\"Enter number again: \"))\n",
    "    else:\n",
    "        break\n",
    "print(\"You have guessed the number right: \",number)\n",
    "print(\"-\"*50)\n",
    "print(\"*****************You are a Genius*****************\")\n",
    "    "
   ]
  },
  {
   "cell_type": "code",
   "execution_count": null,
   "metadata": {},
   "outputs": [],
   "source": []
  },
  {
   "cell_type": "code",
   "execution_count": null,
   "metadata": {},
   "outputs": [],
   "source": []
  },
  {
   "cell_type": "code",
   "execution_count": null,
   "metadata": {},
   "outputs": [],
   "source": []
  },
  {
   "cell_type": "code",
   "execution_count": null,
   "metadata": {},
   "outputs": [],
   "source": []
  },
  {
   "cell_type": "code",
   "execution_count": null,
   "metadata": {},
   "outputs": [],
   "source": []
  }
 ],
 "metadata": {
  "kernelspec": {
   "display_name": "Python 3",
   "language": "python",
   "name": "python3"
  },
  "language_info": {
   "codemirror_mode": {
    "name": "ipython",
    "version": 3
   },
   "file_extension": ".py",
   "mimetype": "text/x-python",
   "name": "python",
   "nbconvert_exporter": "python",
   "pygments_lexer": "ipython3",
   "version": "3.8.3"
  }
 },
 "nbformat": 4,
 "nbformat_minor": 4
}
